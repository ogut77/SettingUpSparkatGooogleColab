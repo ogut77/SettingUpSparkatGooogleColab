{
  "nbformat": 4,
  "nbformat_minor": 0,
  "metadata": {
    "colab": {
      "name": "SparkSetUpColab.ipynb",
      "version": "0.3.2",
      "provenance": [],
      "collapsed_sections": [],
      "include_colab_link": true
    },
    "kernelspec": {
      "name": "python3",
      "display_name": "Python 3"
    }
  },
  "cells": [
    {
      "cell_type": "markdown",
      "metadata": {
        "id": "view-in-github",
        "colab_type": "text"
      },
      "source": [
        "<a href=\"https://colab.research.google.com/github/ogut77/SettingUpSparkatGooogleColab/blob/master/SparkSetUpColab.ipynb\" target=\"_parent\"><img src=\"https://colab.research.google.com/assets/colab-badge.svg\" alt=\"Open In Colab\"/></a>"
      ]
    },
    {
      "metadata": {
        "id": "s4Bfq4y8x9cH",
        "colab_type": "text"
      },
      "cell_type": "markdown",
      "source": [
        "# Setting Up Apache Spark at Google Colab\n",
        "If you would like to learn Apache Saprk, the first hurdle is setting up Spark at your computer. One alternative solution is to use sites like databricks. However, these sites are commercial and you can use only limited time and feture of their products. However, you can easily install Apache Spark at  Google Colab environment. I will show you how to do it in this notebook.Let's start by installing Java, Spark 2.4 at first. We are  extracting tgz files at the third column and installing findspark at the 4th column."
      ]
    },
    {
      "metadata": {
        "id": "doZ5Cc_Yx4-g",
        "colab_type": "code",
        "colab": {}
      },
      "cell_type": "code",
      "source": [
        "!apt-get install openjdk-8-jdk-headless -qq > /dev/null\n",
        "!wget -q http://ftp.itu.edu.tr/Mirror/Apache/spark/spark-2.4.0/spark-2.4.0-bin-hadoop2.7.tgz\n",
        "!tar xf spark-2.4.0-bin-hadoop2.7.tgz\n",
        "!pip install -q findspark"
      ],
      "execution_count": 0,
      "outputs": []
    },
    {
      "metadata": {
        "id": "o8ArdSa7yswC",
        "colab_type": "text"
      },
      "cell_type": "markdown",
      "source": [
        "In the column below, we are setting environment variables that we want to access for Java and Spark"
      ]
    },
    {
      "metadata": {
        "id": "NUnEViQwnMtN",
        "colab_type": "code",
        "colab": {}
      },
      "cell_type": "code",
      "source": [
        "import os\n",
        "os.environ[\"JAVA_HOME\"] = \"/usr/lib/jvm/java-8-openjdk-amd64\"\n",
        "os.environ[\"SPARK_HOME\"] = \"/content/spark-2.4.0-bin-hadoop2.7\""
      ],
      "execution_count": 0,
      "outputs": []
    },
    {
      "metadata": {
        "id": "zwONtt9hlh2Z",
        "colab_type": "text"
      },
      "cell_type": "markdown",
      "source": [
        "The following  column  will start Spark session."
      ]
    },
    {
      "metadata": {
        "id": "71fu5jXtnQZ9",
        "colab_type": "code",
        "colab": {}
      },
      "cell_type": "code",
      "source": [
        "import findspark\n",
        "findspark.init()\n",
        "from pyspark.sql import SparkSession\n",
        "spark = SparkSession.builder.master(\"local[*]\").getOrCreate()\n"
      ],
      "execution_count": 0,
      "outputs": []
    },
    {
      "metadata": {
        "id": "kO_BuGkimtF5",
        "colab_type": "text"
      },
      "cell_type": "markdown",
      "source": [
        "Let's check what we have in the default folder "
      ]
    },
    {
      "metadata": {
        "id": "GjDpn0LznaFJ",
        "colab_type": "code",
        "outputId": "87d4052b-cd5a-41ca-d85c-54fb4ae321aa",
        "colab": {
          "base_uri": "https://localhost:8080/",
          "height": 50
        }
      },
      "cell_type": "code",
      "source": [
        "!ls"
      ],
      "execution_count": 0,
      "outputs": [
        {
          "output_type": "stream",
          "text": [
            "sample_data\t\t   spark-2.4.0-bin-hadoop2.7.tgz\n",
            "spark-2.4.0-bin-hadoop2.7  spark-2.4.0-bin-hadoop2.7.tgz.1\n"
          ],
          "name": "stdout"
        }
      ]
    },
    {
      "metadata": {
        "id": "swj06z5N0YsC",
        "colab_type": "text"
      },
      "cell_type": "markdown",
      "source": [
        "We will check whether Apache Spark is installed by using sample_data file stored in the default folder."
      ]
    },
    {
      "metadata": {
        "id": "KaMtH0E80V9y",
        "colab_type": "code",
        "colab": {}
      },
      "cell_type": "code",
      "source": [
        "from pyspark import SparkContext\n",
        "sc = SparkContext.getOrCreate()\n",
        "lines = sc.textFile(\"sample_data\")"
      ],
      "execution_count": 0,
      "outputs": []
    },
    {
      "metadata": {
        "id": "h_TmGuo0mqrZ",
        "colab_type": "text"
      },
      "cell_type": "markdown",
      "source": [
        "Show first 5 lines"
      ]
    },
    {
      "metadata": {
        "id": "NM2RudPHnipf",
        "colab_type": "code",
        "outputId": "6b5ddb00-3c9f-434f-effb-f3c3411a6a56",
        "colab": {
          "base_uri": "https://localhost:8080/",
          "height": 101
        }
      },
      "cell_type": "code",
      "source": [
        " \n",
        "lines.take(5)\n"
      ],
      "execution_count": 0,
      "outputs": [
        {
          "output_type": "execute_result",
          "data": {
            "text/plain": [
              "['[',\n",
              " '  {\"Series\":\"I\", \"X\":10.0, \"Y\":8.04},',\n",
              " '  {\"Series\":\"I\", \"X\":8.0, \"Y\":6.95},',\n",
              " '  {\"Series\":\"I\", \"X\":13.0, \"Y\":7.58},',\n",
              " '  {\"Series\":\"I\", \"X\":9.0, \"Y\":8.81},']"
            ]
          },
          "metadata": {
            "tags": []
          },
          "execution_count": 6
        }
      ]
    },
    {
      "metadata": {
        "id": "1jy5-N1R0CnB",
        "colab_type": "text"
      },
      "cell_type": "markdown",
      "source": [
        "Let's count number of lines of sample data"
      ]
    },
    {
      "metadata": {
        "id": "GMT6rxbMocND",
        "colab_type": "code",
        "outputId": "5eba1fe0-7ccc-45d8-c8ba-98077c0f49dd",
        "colab": {
          "base_uri": "https://localhost:8080/",
          "height": 34
        }
      },
      "cell_type": "code",
      "source": [
        "print(lines.count())"
      ],
      "execution_count": 0,
      "outputs": [
        {
          "output_type": "stream",
          "text": [
            "50068\n"
          ],
          "name": "stdout"
        }
      ]
    }
  ]
}